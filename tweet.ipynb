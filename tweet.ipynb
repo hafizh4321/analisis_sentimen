{
 "cells": [
  {
   "cell_type": "code",
   "execution_count": 1,
   "metadata": {},
   "outputs": [],
   "source": [
    "import tweepy\n",
    "# from tweepy.auth import OAuthHandler\n",
    "import re\n",
    "# import textblob"
   ]
  },
  {
   "cell_type": "code",
   "execution_count": 2,
   "metadata": {},
   "outputs": [],
   "source": [
    "api_key = \"PaO6a8FpsJLObvly8tKQeTUYJ\"\n",
    "api_secret_key = \"ZWGEMqwd42eTi8OUVDPev3cmA15AlziNdsQZrAFIRTZfbgM1XmU\" \n",
    "access_token = \"1539800700133457920-KAAqfrUARmZG8Cg8A7VUgjDQHvIpV0\"\n",
    "access_token_secret = \"NBylZNvqfz9QkAWfzXMj7s0NzYMtx3YUgzKo658NOnxqK\"\n",
    "consumer_key = \"cjlLbm55OHM4c25RRUVrdVgyb1o6MT2pjaQ\"\n",
    "consumer_secret = \"t6S4iNQxO3aDV9V2mHUumsog_z_zzZXO2z3to3YacklEK8vBjC\""
   ]
  },
  {
   "cell_type": "code",
   "execution_count": 3,
   "metadata": {},
   "outputs": [],
   "source": [
    "auth = tweepy.OAuthHandler(api_key, api_secret_key)\n",
    "auth.set_access_token(access_token, access_token_secret)\n",
    "api = tweepy.API(auth)"
   ]
  },
  {
   "cell_type": "code",
   "execution_count": 4,
   "metadata": {},
   "outputs": [],
   "source": [
    "# hasiluser = api.user_timeline(id = \"jokowi\", count=10)\n",
    "hasilsearch = api.search_tweets(q = \"ronaldo\", lang=\"id\", count=100)\n",
    "# hasilsearch = api.user_timeline(q = \"nike\", lang=\"id\", count=100, tweet_mode=\"extended\")"
   ]
  },
  {
   "cell_type": "code",
   "execution_count": 5,
   "metadata": {},
   "outputs": [
    {
     "data": {
      "text/plain": [
       "['nemenin istri streaming youtube untuk makanan si kecil pake indihome jaringan lancar dan gk buffering',\n",
       " 'halo admin saya ada kendala nih tolong cek dm thank you',\n",
       " 'rt promo menarik hadir lagi nih spesial buat kamu beli perangkatnya lebih hemat tiap bulannya eits seru banget masih ada',\n",
       " 'min saya mau nonton prey kok ngga bisa ya ngfreeze begini aja film lain bisa via indihome tv',\n",
       " 'bersama provider kesayangan check indihome internetnyaindonesia aktivitastanpabatas silaturahmitanpabatas',\n",
       " 'bersama provider kesayangan check indihome internetnyaindonesia aktivitastanpabatas silaturahmitanpabatas',\n",
       " 'streaming youtube hd gak worry buffering jaringan indihome tetap bisa diandalkan internetnyaindonesia indihome',\n",
       " 'bersama provider kesayangan check indihome internetnyaindonesia aktivitastanpabatas silaturahmitanpabatas',\n",
       " 'hai om kenapa jaringan indihome ku sering lemot ya',\n",
       " 'tayangan kartun seru ada nya cuma di useetv nya indihome yuks langganan useetv nya indihome biar bisa nonton baren',\n",
       " 'saksikan nct dream stray kids le sserafim dalam pembukaan seoul festa 2022 hanya di channel kbs world di indih',\n",
       " 'yg dimaksud all screen itu gmn min kapan ada paket bs lebih dari 1 device kemudian utk stb indi',\n",
       " 'hai kak indrayanto jika ada pertanyaan terkait produk indihome silakan hubungi rekan kami melalui',\n",
       " 'rt take notes ini untuk minsum buat belajar etiket yang baik kayak orang tua anak dibawah ini santun banget adem liatnya',\n",
       " 'rt super duper ngambek saat pulang kerumah kalau cowoknya pada begini buat cwk cwk kalau ada tambahan red flag bisa lang',\n",
       " 'rt terimakasihgaby gabriela margareth atau sering dipanggil gaby resmi graduation atau lulus dari jkt48 gaby sudah berga',\n",
       " 'yuk cek aplikasi my indihome sekarang aktivitastanpabatas internetnyaindonesia',\n",
       " 'dman sama bestie dman sama admin centang biru such as indihome telkomsel garuda citilink apple support em',\n",
       " 'yuk cek aplikasi my indihome sekarang aktivitastanpabatas internetnyaindonesia',\n",
       " 'halo sobat kamu baru banget jadi pelanggan indihome ada beberapa hal penting yang kamu harus perhatikan nih']"
      ]
     },
     "execution_count": 5,
     "metadata": {},
     "output_type": "execute_result"
    }
   ],
   "source": [
    "hasilsearch = api.search_tweets(q = \"indihome\", lang=\"id\", count=20)\n",
    "\n",
    "hasilanalisis = []\n",
    "\n",
    "for tweet in hasilsearch:\n",
    "    tweet_properties = {}\n",
    "    tweet_properties[\"isi_tweet\"] = tweet.text\n",
    "    tweet_bersih = ' '.join(re.sub(\"(@[A-Za-z0-9]+)|([^0-9A-Za-z \\t])|(\\w+:\\/\\/\\S+)\",\" \",tweet.text.lower()).split())\n",
    "    # print(tweet_bersih)\n",
    "    \n",
    "#     analysis = textblob.TextBlob(tweet_bersih)\n",
    "# if analysis.sentiment.polarity > 0.0:\n",
    "#     tweet_bersih[\"sentimen\"] = \"positif\"\n",
    "# elif analysis.sentiment.polarity == 0.0:\n",
    "#     tweet_bersih[\"sentimen\"] = \"netral\"\n",
    "# elif analysis.sentiment.polarity < 0.0:\n",
    "#     tweet_bersih[\"sentimen\"] = \"negatif\"\n",
    "\n",
    "    if tweet.retweet_count > 0:\n",
    "        if tweet_bersih not in hasilanalisis:\n",
    "            hasilanalisis.append(tweet_bersih)\n",
    "    else:\n",
    "        hasilanalisis.append(tweet_bersih)\n",
    "\n",
    "hasilanalisis"
   ]
  },
  {
   "cell_type": "code",
   "execution_count": null,
   "metadata": {},
   "outputs": [],
   "source": [
    "hasilanalisis"
   ]
  },
  {
   "cell_type": "code",
   "execution_count": 8,
   "metadata": {},
   "outputs": [
    {
     "ename": "TypeError",
     "evalue": "string indices must be integers",
     "output_type": "error",
     "traceback": [
      "\u001b[1;31m---------------------------------------------------------------------------\u001b[0m",
      "\u001b[1;31mTypeError\u001b[0m                                 Traceback (most recent call last)",
      "\u001b[1;32md:\\semester8\\Skripsi\\coba coba\\tweet.ipynb Cell 7'\u001b[0m in \u001b[0;36m<cell line: 1>\u001b[1;34m()\u001b[0m\n\u001b[1;32m----> <a href='vscode-notebook-cell:/d%3A/semester8/Skripsi/coba%20coba/tweet.ipynb#ch0000006?line=0'>1</a>\u001b[0m tweet_positif \u001b[39m=\u001b[39m [t \u001b[39mfor\u001b[39;00m t \u001b[39min\u001b[39;00m hasilanalisis \u001b[39mif\u001b[39;00m t[\u001b[39m\"\u001b[39m\u001b[39msentiment\u001b[39m\u001b[39m\"\u001b[39m] \u001b[39m==\u001b[39m \u001b[39m\"\u001b[39m\u001b[39mpositif\u001b[39m\u001b[39m\"\u001b[39m]\n\u001b[0;32m      <a href='vscode-notebook-cell:/d%3A/semester8/Skripsi/coba%20coba/tweet.ipynb#ch0000006?line=1'>2</a>\u001b[0m tweet_netral \u001b[39m=\u001b[39m [t \u001b[39mfor\u001b[39;00m t \u001b[39min\u001b[39;00m hasilanalisis \u001b[39mif\u001b[39;00m t[\u001b[39m\"\u001b[39m\u001b[39msentiment\u001b[39m\u001b[39m\"\u001b[39m] \u001b[39m==\u001b[39m \u001b[39m\"\u001b[39m\u001b[39mnetral\u001b[39m\u001b[39m\"\u001b[39m]\n\u001b[0;32m      <a href='vscode-notebook-cell:/d%3A/semester8/Skripsi/coba%20coba/tweet.ipynb#ch0000006?line=2'>3</a>\u001b[0m tweet_negatif \u001b[39m=\u001b[39m [t \u001b[39mfor\u001b[39;00m t \u001b[39min\u001b[39;00m hasilanalisis \u001b[39mif\u001b[39;00m t[\u001b[39m\"\u001b[39m\u001b[39msentiment\u001b[39m\u001b[39m\"\u001b[39m] \u001b[39m==\u001b[39m \u001b[39m\"\u001b[39m\u001b[39mnegatif\u001b[39m\u001b[39m\"\u001b[39m]\n",
      "\u001b[1;32md:\\semester8\\Skripsi\\coba coba\\tweet.ipynb Cell 7'\u001b[0m in \u001b[0;36m<listcomp>\u001b[1;34m(.0)\u001b[0m\n\u001b[1;32m----> <a href='vscode-notebook-cell:/d%3A/semester8/Skripsi/coba%20coba/tweet.ipynb#ch0000006?line=0'>1</a>\u001b[0m tweet_positif \u001b[39m=\u001b[39m [t \u001b[39mfor\u001b[39;00m t \u001b[39min\u001b[39;00m hasilanalisis \u001b[39mif\u001b[39;00m t[\u001b[39m\"\u001b[39;49m\u001b[39msentiment\u001b[39;49m\u001b[39m\"\u001b[39;49m] \u001b[39m==\u001b[39m \u001b[39m\"\u001b[39m\u001b[39mpositif\u001b[39m\u001b[39m\"\u001b[39m]\n\u001b[0;32m      <a href='vscode-notebook-cell:/d%3A/semester8/Skripsi/coba%20coba/tweet.ipynb#ch0000006?line=1'>2</a>\u001b[0m tweet_netral \u001b[39m=\u001b[39m [t \u001b[39mfor\u001b[39;00m t \u001b[39min\u001b[39;00m hasilanalisis \u001b[39mif\u001b[39;00m t[\u001b[39m\"\u001b[39m\u001b[39msentiment\u001b[39m\u001b[39m\"\u001b[39m] \u001b[39m==\u001b[39m \u001b[39m\"\u001b[39m\u001b[39mnetral\u001b[39m\u001b[39m\"\u001b[39m]\n\u001b[0;32m      <a href='vscode-notebook-cell:/d%3A/semester8/Skripsi/coba%20coba/tweet.ipynb#ch0000006?line=2'>3</a>\u001b[0m tweet_negatif \u001b[39m=\u001b[39m [t \u001b[39mfor\u001b[39;00m t \u001b[39min\u001b[39;00m hasilanalisis \u001b[39mif\u001b[39;00m t[\u001b[39m\"\u001b[39m\u001b[39msentiment\u001b[39m\u001b[39m\"\u001b[39m] \u001b[39m==\u001b[39m \u001b[39m\"\u001b[39m\u001b[39mnegatif\u001b[39m\u001b[39m\"\u001b[39m]\n",
      "\u001b[1;31mTypeError\u001b[0m: string indices must be integers"
     ]
    }
   ],
   "source": [
    "tweet_positif = [t for t in hasilanalisis if t[\"sentiment\"] == \"positif\"]\n",
    "tweet_netral = [t for t in hasilanalisis if t[\"sentiment\"] == \"netral\"]\n",
    "tweet_negatif = [t for t in hasilanalisis if t[\"sentiment\"] == \"negatif\"]"
   ]
  },
  {
   "cell_type": "code",
   "execution_count": null,
   "metadata": {},
   "outputs": [
    {
     "name": "stdout",
     "output_type": "stream",
     "text": [
      "hasil sentimen\n"
     ]
    },
    {
     "ename": "ZeroDivisionError",
     "evalue": "division by zero",
     "output_type": "error",
     "traceback": [
      "\u001b[1;31m---------------------------------------------------------------------------\u001b[0m",
      "\u001b[1;31mZeroDivisionError\u001b[0m                         Traceback (most recent call last)",
      "\u001b[1;32md:\\semester8\\Skripsi\\coba coba\\tweet.ipynb Cell 8'\u001b[0m in \u001b[0;36m<cell line: 2>\u001b[1;34m()\u001b[0m\n\u001b[0;32m      <a href='vscode-notebook-cell:/d%3A/semester8/Skripsi/coba%20coba/tweet.ipynb#ch0000008?line=0'>1</a>\u001b[0m \u001b[39mprint\u001b[39m(\u001b[39m\"\u001b[39m\u001b[39mhasil sentimen\u001b[39m\u001b[39m\"\u001b[39m)\n\u001b[1;32m----> <a href='vscode-notebook-cell:/d%3A/semester8/Skripsi/coba%20coba/tweet.ipynb#ch0000008?line=1'>2</a>\u001b[0m \u001b[39mprint\u001b[39m(\u001b[39m\"\u001b[39m\u001b[39mpositif: \u001b[39m\u001b[39m\"\u001b[39m, \u001b[39mlen\u001b[39m(tweet_positif), \u001b[39m\"\u001b[39m\u001b[39m(\u001b[39m\u001b[39m{}\u001b[39;00m\u001b[39m%\u001b[39m\u001b[39m\"\u001b[39m\u001b[39m.\u001b[39mformat(\u001b[39m100\u001b[39;49m\u001b[39m*\u001b[39;49m\u001b[39mlen\u001b[39;49m(tweet_positif)\u001b[39m/\u001b[39;49m\u001b[39mlen\u001b[39;49m(hasilanalisis)))\n\u001b[0;32m      <a href='vscode-notebook-cell:/d%3A/semester8/Skripsi/coba%20coba/tweet.ipynb#ch0000008?line=2'>3</a>\u001b[0m \u001b[39mprint\u001b[39m(\u001b[39m\"\u001b[39m\u001b[39mnetral: \u001b[39m\u001b[39m\"\u001b[39m, \u001b[39mlen\u001b[39m(tweet_positif), \u001b[39m\"\u001b[39m\u001b[39m(\u001b[39m\u001b[39m{}\u001b[39;00m\u001b[39m%\u001b[39m\u001b[39m\"\u001b[39m\u001b[39m.\u001b[39mformat(\u001b[39m100\u001b[39m\u001b[39m*\u001b[39m\u001b[39mlen\u001b[39m(tweet_netral)\u001b[39m/\u001b[39m\u001b[39mlen\u001b[39m(hasilanalisis)))\n\u001b[0;32m      <a href='vscode-notebook-cell:/d%3A/semester8/Skripsi/coba%20coba/tweet.ipynb#ch0000008?line=3'>4</a>\u001b[0m \u001b[39mprint\u001b[39m(\u001b[39m\"\u001b[39m\u001b[39mnegatif: \u001b[39m\u001b[39m\"\u001b[39m, \u001b[39mlen\u001b[39m(tweet_positif), \u001b[39m\"\u001b[39m\u001b[39m(\u001b[39m\u001b[39m{}\u001b[39;00m\u001b[39m%\u001b[39m\u001b[39m\"\u001b[39m\u001b[39m.\u001b[39mformat(\u001b[39m100\u001b[39m\u001b[39m*\u001b[39m\u001b[39mlen\u001b[39m(tweet_negatif)\u001b[39m/\u001b[39m\u001b[39mlen\u001b[39m(hasilanalisis)))\n",
      "\u001b[1;31mZeroDivisionError\u001b[0m: division by zero"
     ]
    }
   ],
   "source": [
    "print(\"hasil sentimen\")\n",
    "print(\"positif: \", len(tweet_positif), \"({}%\".format(100*len(tweet_positif)/len(hasilanalisis)))\n",
    "print(\"netral: \", len(tweet_positif), \"({}%\".format(100*len(tweet_netral)/len(hasilanalisis)))\n",
    "print(\"negatif: \", len(tweet_positif), \"({}%\".format(100*len(tweet_negatif)/len(hasilanalisis)))"
   ]
  },
  {
   "cell_type": "code",
   "execution_count": null,
   "metadata": {},
   "outputs": [],
   "source": []
  }
 ],
 "metadata": {
  "kernelspec": {
   "display_name": "Python 3.9.12 ('tf')",
   "language": "python",
   "name": "python3"
  },
  "language_info": {
   "codemirror_mode": {
    "name": "ipython",
    "version": 3
   },
   "file_extension": ".py",
   "mimetype": "text/x-python",
   "name": "python",
   "nbconvert_exporter": "python",
   "pygments_lexer": "ipython3",
   "version": "3.9.12"
  },
  "orig_nbformat": 4,
  "vscode": {
   "interpreter": {
    "hash": "bf6be78011255a732ec560e455f2dc75444150acb4b55289e5abeb3820a11db0"
   }
  }
 },
 "nbformat": 4,
 "nbformat_minor": 2
}
